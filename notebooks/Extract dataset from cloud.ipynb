{
 "cells": [
  {
   "cell_type": "markdown",
   "metadata": {},
   "source": [
    "# Extracting Titanic Disaster Data from Kaggle"
   ]
  },
  {
   "cell_type": "code",
   "execution_count": 1,
   "metadata": {},
   "outputs": [
    {
     "name": "stdout",
     "output_type": "stream",
     "text": [
      "Collecting python-dotenv\n",
      "  Downloading python_dotenv-0.8.2-py2.py3-none-any.whl\n",
      "Installing collected packages: python-dotenv\n",
      "Successfully installed python-dotenv-0.8.2\n"
     ]
    },
    {
     "name": "stderr",
     "output_type": "stream",
     "text": [
      "You are using pip version 9.0.1, however version 9.0.3 is available.\n",
      "You should consider upgrading via the 'python -m pip install --upgrade pip' command.\n"
     ]
    }
   ],
   "source": [
    "!pip install python-dotenv"
   ]
  },
  {
   "cell_type": "code",
   "execution_count": 2,
   "metadata": {},
   "outputs": [],
   "source": [
    "from dotenv import load_dotenv, find_dotenv"
   ]
  },
  {
   "cell_type": "code",
   "execution_count": 3,
   "metadata": {},
   "outputs": [
    {
     "name": "stdout",
     "output_type": "stream",
     "text": [
      "Collecting kaggle\n",
      "  Downloading kaggle-1.1.0.tar.gz\n",
      "Requirement already satisfied: urllib3>=1.15 in c:\\users\\lbalaji\\appdata\\local\\continuum\\anaconda3\\lib\\site-packages (from kaggle)\n",
      "Requirement already satisfied: six>=1.10 in c:\\users\\lbalaji\\appdata\\local\\continuum\\anaconda3\\lib\\site-packages (from kaggle)\n",
      "Requirement already satisfied: certifi in c:\\users\\lbalaji\\appdata\\local\\continuum\\anaconda3\\lib\\site-packages (from kaggle)\n",
      "Requirement already satisfied: python-dateutil in c:\\users\\lbalaji\\appdata\\local\\continuum\\anaconda3\\lib\\site-packages (from kaggle)\n",
      "Building wheels for collected packages: kaggle\n",
      "  Running setup.py bdist_wheel for kaggle: started\n",
      "  Running setup.py bdist_wheel for kaggle: finished with status 'done'\n",
      "  Stored in directory: C:\\Users\\lbalaji\\AppData\\Local\\pip\\Cache\\wheels\\2a\\cc\\c6\\e4c872c053261660031b4a3e35ac958725b284c6fde9ff05c8\n",
      "Successfully built kaggle\n",
      "Installing collected packages: kaggle\n",
      "Successfully installed kaggle-1.1.0\n"
     ]
    },
    {
     "name": "stderr",
     "output_type": "stream",
     "text": [
      "You are using pip version 9.0.1, however version 9.0.3 is available.\n",
      "You should consider upgrading via the 'python -m pip install --upgrade pip' command.\n"
     ]
    }
   ],
   "source": [
    "!pip install kaggle"
   ]
  },
  {
   "cell_type": "code",
   "execution_count": 6,
   "metadata": {},
   "outputs": [
    {
     "name": "stdout",
     "output_type": "stream",
     "text": [
      "ref                                                       title                                           size  lastUpdated          downloadCount  \n",
      "--------------------------------------------------------  ---------------------------------------------  -----  -------------------  -------------  \n",
      "kiva/data-science-for-good-kiva-crowdfunding              Data Science for Good: Kiva Crowdfunding        42MB  2018-03-02 20:20:57           5394  \n",
      "jtrofe/beer-recipes                                       Brewer's Friend Beer Recipes                     4MB  2018-03-21 13:45:06           1470  \n",
      "noaa/gsod                                                 NOAA GSOD                                       26GB  2018-03-13 16:57:12              0  \n",
      "shahir/protein-data-set                                   Structural Protein Sequences                    27MB  2018-02-03 11:38:56            527  \n",
      "hackerrank/developer-survey-2018                          HackerRank Developer Survey 2018                 5MB  2018-03-19 21:42:43           1240  \n",
      "therohk/million-headlines                                 A Million News Headlines                        19MB  2018-01-02 16:20:45           1866  \n",
      "noaa/goes16                                               NOAA GOES-16                                     9GB  2018-03-13 15:39:43              0  \n",
      "vishnusraghavan/the-interview-attendance-problem          The Interview Attendance Problem               376KB  2017-12-14 10:35:07           2078  \n",
      "jboysen/african-conflicts                                 ACLED African Conflicts, 1997-2017              59MB  2017-08-08 16:37:07            406  \n",
      "borismarjanovic/price-volume-data-for-all-us-stocks-etfs  Huge Stock Market Dataset                      245MB  2017-11-16 14:53:29           6808  \n",
      "fda/adverse-food-events                                   Adverse Food Events                             19MB  2017-09-07 19:34:07           1187  \n",
      "uciml/pima-indians-diabetes-database                      Pima Indians Diabetes Database                  23KB  2016-10-06 18:31:56          12683  \n",
      "itamarmushkin/israeli-elections-2015-2013                 2013 and 2015 Israeli Elections                  1MB  2017-12-17 07:59:31            531  \n",
      "marcodena/mobile-phone-activity                           Mobile phone activity in a city                  1GB  2016-11-11 13:36:14           3916  \n",
      "uciml/forest-cover-type-dataset                           Forest Cover Type Dataset                       72MB  2016-11-03 05:22:44           1924  \n",
      "kmader/siim-medical-images                                CT Medical Images                              437MB  2017-05-23 07:03:06           2088  \n",
      "mit/pantheon-project                                      Pantheon Project: Historical Popularity Index    1MB  2017-03-01 21:00:18            701  \n",
      "rtatman/lego-database                                     LEGO Database                                   12MB  2017-07-14 18:00:24           3791  \n",
      "rounakbanik/ted-talks                                     TED Talks                                       34MB  2017-09-25 21:14:33           7403  \n",
      "mariopasquato/star-cluster-simulations                    Star Cluster Simulations                       109MB  2017-01-07 06:59:40           1440  \n"
     ]
    }
   ],
   "source": [
    "!kaggle datasets list"
   ]
  },
  {
   "cell_type": "code",
   "execution_count": 7,
   "metadata": {},
   "outputs": [
    {
     "name": "stdout",
     "output_type": "stream",
     "text": [
      "ref                                                         title                                               size  lastUpdated          downloadCount  \n",
      "----------------------------------------------------------  -------------------------------------------------  -----  -------------------  -------------  \n",
      "dedecu/titanic-test-ready                                   Titanic-test-ready                                  20KB  2018-03-19 02:11:49              1  \n",
      "harunshimanto/titanic-solution-a-beginners-guide            Titanic Solution: A Beginner's Guide                94KB  2018-03-11 14:23:57             30  \n",
      "benoit72/uk-accidents-10-years-history-with-many-variables  UK Accidents 10 years history with many variables  103MB  2018-03-03 23:47:12             52  \n",
      "parienza/titanic                                            Titanic                                              4MB  2017-12-17 21:38:08              2  \n",
      "harunshimanto/titanic-solution-for-beginners-guide          Titanic Solution for Beginner's Guide               91KB  2018-03-12 17:47:06             20  \n",
      "nsaikn/titanic                                              Titanic                                             91KB  2017-11-14 00:57:47            213  \n",
      "igorafm/braziliansc-habeascorpusjan1518                     BrazilianSC_HabeasCorpusJan1518                    182KB  2018-02-08 14:44:10              4  \n",
      "kritikakushwaha/titanic                                     TITANIC                                             64KB  2018-02-21 16:40:23              1  \n",
      "shuofxz/titanic-machine-learning-from-disaster              Titanic: Machine Learning from Disaster             88KB  2017-10-15 10:05:34            135  \n",
      "tommytrung/titanic                                          Titanic                                             91KB  2018-02-23 08:47:09              2  \n",
      "antonioferris/titanic-data                                  Titanic Data                                        91KB  2018-02-07 05:41:17              5  \n",
      "pilotgod/titanic-truth-data                                 Titanic Truth Data                                 106KB  2018-02-07 01:05:14              1  \n",
      "zquant/titanic-data                                         Titanic Data                                        91KB  2018-01-04 03:47:11              3  \n",
      "patil4444/titanic                                           titanic                                             88KB  2018-03-12 15:13:38              8  \n",
      "anish9167473766/titanic-solved                              Titanic_solved                                      92KB  2018-01-11 13:18:50              3  \n",
      "shabukc/titanic-survival-prediction                         Titanic Survival Prediction                         91KB  2018-01-01 12:01:19              3  \n",
      "mehdiguessous/titanic                                       titanic                                             88KB  2018-01-05 10:52:15              2  \n",
      "huntsdesk/titanic                                           Titanic                                             63KB  2017-12-20 14:53:55              3  \n",
      "poetri/survival-prediction-of-titanic                       Survival Prediction of Titanic                     103KB  2017-12-18 10:28:08              5  \n",
      "ahsanfarooqui/titanic-dataset-with-eda-done                 Titanic Dataset with EDA done                       69KB  2018-03-05 06:24:56              2  \n"
     ]
    }
   ],
   "source": [
    "!kaggle datasets list -s titanic"
   ]
  },
  {
   "cell_type": "code",
   "execution_count": 16,
   "metadata": {},
   "outputs": [
    {
     "name": "stdout",
     "output_type": "stream",
     "text": [
      "C:\\Users\\lbalaji\\titanic\\notebooks\n"
     ]
    }
   ],
   "source": [
    "from requests import session\n",
    "import os\n",
    "print(os.getcwd())"
   ]
  },
  {
   "cell_type": "code",
   "execution_count": 21,
   "metadata": {},
   "outputs": [
    {
     "name": "stdout",
     "output_type": "stream",
     "text": [
      "train.csv: Downloaded 60KB of 60KB\n",
      "\n",
      "test.csv: Downloaded 28KB of 28KB\n",
      "\n",
      "gender_submission.csv: Downloaded 3KB of 3KB\n",
      "\n"
     ]
    }
   ],
   "source": [
    "!kaggle competitions download -c titanic -p \"../data/raw\""
   ]
  },
  {
   "cell_type": "code",
   "execution_count": 29,
   "metadata": {},
   "outputs": [
    {
     "name": "stdout",
     "output_type": "stream",
     "text": [
      " Volume in drive C is OS10\n",
      " Volume Serial Number is AEF8-C5C1\n",
      "\n",
      " Directory of C:\\Users\\lbalaji\\titanic\\notebooks\n",
      "\n",
      "31/03/2018  13:35    <DIR>          .\n",
      "31/03/2018  13:35    <DIR>          ..\n",
      "30/03/2018  20:54                 0 .gitkeep\n",
      "31/03/2018  13:19    <DIR>          .ipynb_checkpoints\n",
      "30/03/2018  21:37             8,192 classrommDB.db\n",
      "30/03/2018  21:51             8,192 classroomDB.db\n",
      "31/03/2018  13:35            11,997 Extract dataset from cloud.ipynb\n",
      "31/03/2018  12:16             7,727 Extracting data from relational database.ipynb\n",
      "31/03/2018  11:56            10,084 Extracting data using APIs.ipynb\n",
      "30/03/2018  20:49            30,959 MagicFunctions.ipynb\n",
      "30/03/2018  20:28             2,047 My First Note Book.ipynb\n",
      "31/03/2018  12:09           198,441 Web Scraping.ipynb\n",
      "               9 File(s)        277,639 bytes\n",
      "               3 Dir(s)  241,583,898,624 bytes free\n"
     ]
    }
   ],
   "source": [
    "!dir  "
   ]
  },
  {
   "cell_type": "code",
   "execution_count": 32,
   "metadata": {},
   "outputs": [],
   "source": [
    "import kaggle as kaggle"
   ]
  },
  {
   "cell_type": "code",
   "execution_count": 39,
   "metadata": {},
   "outputs": [
    {
     "name": "stdout",
     "output_type": "stream",
     "text": [
      "ref                                                        title                                               size  lastUpdated          downloadCount  \n",
      "---------------------------------------------------------  -------------------------------------------------  -----  -------------------  -------------  \n",
      "hackerrank/developer-survey-2018                           HackerRank Developer Survey 2018                     5MB  2018-03-19 21:42:43           1241  \n",
      "kwullum/fatal-police-shootings-in-the-us                   Fatal Police Shootings in the US                     3MB  2017-09-22 19:18:21           2605  \n",
      "ophi/mpi                                                   Multidimensional Poverty Measures                   77KB  2018-02-16 18:24:39            859  \n",
      "muonneutrino/us-census-demographic-data                    US Census Demographic Data                           6MB  2017-12-14 03:24:06           2426  \n",
      "miker400/washington-state-home-mortgage-hdma2016           HDMA Washington State Home Loans, 2016              21MB  2018-03-13 18:26:19            125  \n",
      "anthonypino/melbourne-housing-market                       Melbourne Housing Market                             1MB  2018-03-22 04:19:22           3995  \n",
      "danofer/sf-parks                                           San Francisco Park Scores                          848KB  2018-03-07 10:35:05             96  \n",
      "jpmiller/publicassistance                                  US Public Assistance for Women and Children        741KB  2018-01-19 02:41:15            172  \n",
      "daveianhickey/2000-16-traffic-flow-england-scotland-wales  1.6 million UK traffic accidents                   621MB  2017-09-17 16:55:28           4290  \n",
      "skihikingkevin/pubg-match-deaths                           PUBG Match Deaths and Statistics                     4GB  2018-01-12 15:22:04            934  \n",
      "meepbobeep/us-public-pensions-data-fiscal-years-20012016   U.S. Public Pensions Data, fiscal years 2001-2016    2MB  2018-01-01 22:20:07            206  \n",
      "jaseibert/us-facilitylevel-air-pollution-20102014          US Facility-Level Air Pollution (2010-2014)          6MB  2017-11-22 19:35:49            303  \n",
      "srrobert50/federal-superfunds                              U.S. Federal Superfund Sites                       306MB  2017-11-17 03:31:17             64  \n",
      "jeanmidev/smart-meters-in-london                           Smart meters in London                               1GB  2017-12-12 19:56:33           1262  \n",
      "mozillaorg/common-voice                                    Common Voice                                        12GB  2017-12-12 00:14:51            323  \n",
      "etiennelq/french-employment-by-town                        French employment, salaries, population per town   344MB  2017-10-26 21:05:23           1217  \n",
      "jboysen/scientist-migrations                               Scientific Researcher Migrations                    34MB  2017-08-31 15:34:03            262  \n",
      "jej13b/oecd-better-life-index                              OECD Better Life Index 2017                          5KB  2017-12-12 21:32:30            558  \n",
      "zillow/zecon                                               Zillow Economics Data                              511MB  2018-01-24 23:53:58           4580  \n",
      "muonneutrino/new-york-city-census-data                     New York City Census Data                            2MB  2017-08-04 06:17:42            513  \n"
     ]
    }
   ],
   "source": [
    "!kaggle datasets list -s demographics "
   ]
  },
  {
   "cell_type": "code",
   "execution_count": null,
   "metadata": {},
   "outputs": [],
   "source": []
  }
 ],
 "metadata": {
  "kernelspec": {
   "display_name": "Python 3",
   "language": "python",
   "name": "python3"
  },
  "language_info": {
   "codemirror_mode": {
    "name": "ipython",
    "version": 3
   },
   "file_extension": ".py",
   "mimetype": "text/x-python",
   "name": "python",
   "nbconvert_exporter": "python",
   "pygments_lexer": "ipython3",
   "version": "3.5.5"
  }
 },
 "nbformat": 4,
 "nbformat_minor": 2
}
