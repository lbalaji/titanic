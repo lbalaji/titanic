{
 "cells": [
  {
   "cell_type": "markdown",
   "metadata": {},
   "source": [
    "# Extracting data from relational databases\n",
    "\n",
    "## SQLite database\n",
    "\n",
    "### import package"
   ]
  },
  {
   "cell_type": "code",
   "execution_count": 1,
   "metadata": {},
   "outputs": [],
   "source": [
    "# import sqlite3 package\n",
    "\n",
    "import sqlite3"
   ]
  },
  {
   "cell_type": "code",
   "execution_count": 15,
   "metadata": {},
   "outputs": [],
   "source": [
    "connection = sqlite3.connect(\"classroomDB.db\")\n",
    "connection.close()"
   ]
  },
  {
   "cell_type": "code",
   "execution_count": 16,
   "metadata": {},
   "outputs": [],
   "source": [
    "#Open connection\n",
    "connection = sqlite3.connect(\"classroomDB.db\")\n",
    "#open cursor\n",
    "cursor = connection.cursor()\n",
    "create_table = \"\"\"\n",
    "        CREATE TABLE classroom(\n",
    "        student_id INTEGER PRIMARY_KEY,\n",
    "        name VARCHAR(20),\n",
    "        gender CHAR(1),\n",
    "        physics_marks INTEGER,\n",
    "        chemistry_marks INTEGER,\n",
    "        mathematics_marks INTEGER);      \n",
    "        \"\"\"\n",
    "cursor.execute(create_table)\n",
    "connection.commit()\n",
    "connection.close()\n"
   ]
  },
  {
   "cell_type": "code",
   "execution_count": 17,
   "metadata": {},
   "outputs": [
    {
     "name": "stdout",
     "output_type": "stream",
     "text": [
      " INSERT INTO classroom \n",
      "    (student_id,name,gender, physics_marks,chemistry_marks,mathematics_marks) \n",
      "        VALUES\n",
      "        (1,\"Mark\",\"M\",80,84,92);\n",
      " INSERT INTO classroom \n",
      "    (student_id,name,gender, physics_marks,chemistry_marks,mathematics_marks) \n",
      "        VALUES\n",
      "        (2,\"James\",\"M\",60,74,52);\n",
      " INSERT INTO classroom \n",
      "    (student_id,name,gender, physics_marks,chemistry_marks,mathematics_marks) \n",
      "        VALUES\n",
      "        (3,\"Mary\",\"F\",82,82,66);\n",
      " INSERT INTO classroom \n",
      "    (student_id,name,gender, physics_marks,chemistry_marks,mathematics_marks) \n",
      "        VALUES\n",
      "        (4,\"Stella\",\"F\",60,54,42);\n"
     ]
    }
   ],
   "source": [
    "classroom_data = [(1,\"Mark\",\"M\",80,84,92),\n",
    "                 (2,\"James\",\"M\",60,74,52),\n",
    "                 (3,\"Mary\",\"F\",82,82,66),\n",
    "                 (4,\"Stella\",\"F\",60,54,42)]\n",
    "connection = sqlite3.connect(\"classroomDB.db\")\n",
    "cursor = connection.cursor()\n",
    "for student in classroom_data:\n",
    "    insert_statement = \"\"\" INSERT INTO classroom \n",
    "    (student_id,name,gender, physics_marks,chemistry_marks,mathematics_marks) \n",
    "        VALUES\n",
    "        ({0},\"{1}\",\"{2}\",{3},{4},{5});\"\"\".format(student[0],student[1],student[2],student[3],student[4],student[5])\n",
    "    print(insert_statement)\n",
    "    cursor.execute(insert_statement)\n",
    "\n",
    "connection.commit()\n",
    "connection.close()"
   ]
  },
  {
   "cell_type": "markdown",
   "metadata": {},
   "source": [
    "## Extract data"
   ]
  },
  {
   "cell_type": "code",
   "execution_count": 18,
   "metadata": {},
   "outputs": [
    {
     "name": "stdout",
     "output_type": "stream",
     "text": [
      "(1, 'Mark', 'M', 80, 84, 92)\n",
      "(2, 'James', 'M', 60, 74, 52)\n",
      "(3, 'Mary', 'F', 82, 82, 66)\n",
      "(4, 'Stella', 'F', 60, 54, 42)\n"
     ]
    }
   ],
   "source": [
    "connection = sqlite3.connect(\"classroomDB.db\")\n",
    "cursor = connection.cursor()\n",
    "\n",
    "query = \"SELECT * FROM classroom\"\n",
    "\n",
    "cursor.execute(query)\n",
    "\n",
    "result = cursor.fetchall()\n",
    "\n",
    "for row in result:\n",
    "    print(row)\n",
    "\n",
    "connection.close()\n"
   ]
  },
  {
   "cell_type": "markdown",
   "metadata": {},
   "source": [
    "### Microsoft SQL server database\n",
    "\n",
    "## Install package"
   ]
  },
  {
   "cell_type": "code",
   "execution_count": null,
   "metadata": {},
   "outputs": [],
   "source": []
  },
  {
   "cell_type": "code",
   "execution_count": null,
   "metadata": {},
   "outputs": [],
   "source": []
  },
  {
   "cell_type": "code",
   "execution_count": 1,
   "metadata": {},
   "outputs": [],
   "source": [
    "import pymssql"
   ]
  },
  {
   "cell_type": "code",
   "execution_count": 8,
   "metadata": {},
   "outputs": [
    {
     "ename": "OperationalError",
     "evalue": "(20009, b'Unknown error')",
     "output_type": "error",
     "traceback": [
      "\u001b[1;31m---------------------------------------------------------------------------\u001b[0m",
      "\u001b[1;31mMSSQLDatabaseException\u001b[0m                    Traceback (most recent call last)",
      "\u001b[1;32mpymssql.pyx\u001b[0m in \u001b[0;36mpymssql.connect (pymssql.c:10734)\u001b[1;34m()\u001b[0m\n",
      "\u001b[1;32m_mssql.pyx\u001b[0m in \u001b[0;36m_mssql.connect (_mssql.c:21813)\u001b[1;34m()\u001b[0m\n",
      "\u001b[1;32m_mssql.pyx\u001b[0m in \u001b[0;36m_mssql.MSSQLConnection.__init__ (_mssql.c:6589)\u001b[1;34m()\u001b[0m\n",
      "\u001b[1;32m_mssql.pyx\u001b[0m in \u001b[0;36m_mssql.maybe_raise_MSSQLDatabaseException (_mssql.c:17532)\u001b[1;34m()\u001b[0m\n",
      "\u001b[1;31mMSSQLDatabaseException\u001b[0m: (20009, b'Unknown error')",
      "\nDuring handling of the above exception, another exception occurred:\n",
      "\u001b[1;31mOperationalError\u001b[0m                          Traceback (most recent call last)",
      "\u001b[1;32m<ipython-input-8-bbdf2830ada7>\u001b[0m in \u001b[0;36m<module>\u001b[1;34m()\u001b[0m\n\u001b[0;32m      6\u001b[0m }\n\u001b[0;32m      7\u001b[0m \u001b[1;33m\u001b[0m\u001b[0m\n\u001b[1;32m----> 8\u001b[1;33m \u001b[0mconn\u001b[0m \u001b[1;33m=\u001b[0m \u001b[0mpymssql\u001b[0m\u001b[1;33m.\u001b[0m\u001b[0mconnect\u001b[0m\u001b[1;33m(\u001b[0m\u001b[0mcnx\u001b[0m\u001b[1;33m[\u001b[0m\u001b[1;34m'host'\u001b[0m\u001b[1;33m]\u001b[0m\u001b[1;33m,\u001b[0m\u001b[0mcnx\u001b[0m\u001b[1;33m[\u001b[0m\u001b[1;34m'username'\u001b[0m\u001b[1;33m]\u001b[0m\u001b[1;33m,\u001b[0m\u001b[0mcnx\u001b[0m\u001b[1;33m[\u001b[0m\u001b[1;34m'password'\u001b[0m\u001b[1;33m]\u001b[0m\u001b[1;33m,\u001b[0m\u001b[0mcnx\u001b[0m\u001b[1;33m[\u001b[0m\u001b[1;34m'db'\u001b[0m\u001b[1;33m]\u001b[0m\u001b[1;33m)\u001b[0m\u001b[1;33m\u001b[0m\u001b[0m\n\u001b[0m\u001b[0;32m      9\u001b[0m \u001b[0mconn\u001b[0m\u001b[1;33m.\u001b[0m\u001b[0mclose\u001b[0m\u001b[1;33m(\u001b[0m\u001b[1;33m)\u001b[0m\u001b[1;33m\u001b[0m\u001b[0m\n",
      "\u001b[1;32mpymssql.pyx\u001b[0m in \u001b[0;36mpymssql.connect (pymssql.c:10824)\u001b[1;34m()\u001b[0m\n",
      "\u001b[1;31mOperationalError\u001b[0m: (20009, b'Unknown error')"
     ]
    }
   ],
   "source": [
    "cnx = {\n",
    "    'host':'xxx\\xx:1433',\n",
    "    'username':'xxx',\n",
    "    'password':'xxx',\n",
    "    'db':'xxx'    \n",
    "}\n",
    "\n",
    "conn = pymssql.connect(cnx['host'],cnx['username'],cnx['password'],cnx['db'])\n",
    "conn.close()"
   ]
  },
  {
   "cell_type": "code",
   "execution_count": null,
   "metadata": {},
   "outputs": [],
   "source": []
  }
 ],
 "metadata": {
  "kernelspec": {
   "display_name": "Python 3",
   "language": "python",
   "name": "python3"
  },
  "language_info": {
   "codemirror_mode": {
    "name": "ipython",
    "version": 3
   },
   "file_extension": ".py",
   "mimetype": "text/x-python",
   "name": "python",
   "nbconvert_exporter": "python",
   "pygments_lexer": "ipython3",
   "version": "3.5.5"
  }
 },
 "nbformat": 4,
 "nbformat_minor": 2
}
