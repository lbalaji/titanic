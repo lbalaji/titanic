{
 "cells": [
  {
   "cell_type": "markdown",
   "metadata": {},
   "source": [
    "# Extract data using APIs\n"
   ]
  },
  {
   "cell_type": "code",
   "execution_count": 2,
   "metadata": {},
   "outputs": [],
   "source": [
    "import requests"
   ]
  },
  {
   "cell_type": "code",
   "execution_count": 3,
   "metadata": {},
   "outputs": [],
   "source": [
    "url = \"https://parallelum.com.br/fipe/api/v1/carros/marcas\""
   ]
  },
  {
   "cell_type": "code",
   "execution_count": 4,
   "metadata": {},
   "outputs": [],
   "source": [
    "result = requests.get(url)"
   ]
  },
  {
   "cell_type": "code",
   "execution_count": 5,
   "metadata": {},
   "outputs": [
    {
     "data": {
      "text/plain": [
       "200"
      ]
     },
     "execution_count": 5,
     "metadata": {},
     "output_type": "execute_result"
    }
   ],
   "source": [
    "result.status_code"
   ]
  },
  {
   "cell_type": "code",
   "execution_count": 8,
   "metadata": {},
   "outputs": [
    {
     "data": {
      "text/plain": [
       "{'Content-Type': 'application/json', 'Access-Control-Allow-Origin': '*', 'Connection': 'keep-alive', 'Date': 'Sat, 31 Mar 2018 10:53:28 GMT', 'Server': 'nginx/1.12.2', 'Access-Control-Allow-Methods': 'GET,PUT,POST,DELETE,OPTIONS', 'Transfer-Encoding': 'chunked', 'Access-Control-Allow-Headers': 'X-CSRF-Token, X-Requested-With, Accept, Accept-Version, Content-Length, Content-MD5, Content-Type, Date, X-Api-Version'}"
      ]
     },
     "execution_count": 8,
     "metadata": {},
     "output_type": "execute_result"
    }
   ],
   "source": [
    "result.headers"
   ]
  },
  {
   "cell_type": "code",
   "execution_count": 9,
   "metadata": {},
   "outputs": [
    {
     "data": {
      "text/plain": [
       "'[{\"nome\":\"Acura\",\"codigo\":1},{\"nome\":\"Agrale\",\"codigo\":2},{\"nome\":\"Alfa Romeo\",\"codigo\":3},{\"nome\":\"AM Gen\",\"codigo\":4},{\"nome\":\"Asia Motors\",\"codigo\":5},{\"nome\":\"ASTON MARTIN\",\"codigo\":189},{\"nome\":\"Audi\",\"codigo\":6},{\"nome\":\"BMW\",\"codigo\":7},{\"nome\":\"BRM\",\"codigo\":8},{\"nome\":\"Buggy\",\"codigo\":9},{\"nome\":\"Bugre\",\"codigo\":123},{\"nome\":\"Cadillac\",\"codigo\":10},{\"nome\":\"CBT Jipe\",\"codigo\":11},{\"nome\":\"CHANA\",\"codigo\":136},{\"nome\":\"CHANGAN\",\"codigo\":182},{\"nome\":\"CHERY\",\"codigo\":161},{\"nome\":\"Chrysler\",\"codigo\":12},{\"nome\":\"Citro\\\\u00ebn\",\"codigo\":13},{\"nome\":\"Cross Lander\",\"codigo\":14},{\"nome\":\"Daewoo\",\"codigo\":15},{\"nome\":\"Daihatsu\",\"codigo\":16},{\"nome\":\"Dodge\",\"codigo\":17},{\"nome\":\"EFFA\",\"codigo\":147},{\"nome\":\"Engesa\",\"codigo\":18},{\"nome\":\"Envemo\",\"codigo\":19},{\"nome\":\"Ferrari\",\"codigo\":20},{\"nome\":\"Fiat\",\"codigo\":21},{\"nome\":\"Fibravan\",\"codigo\":149},{\"nome\":\"Ford\",\"codigo\":22},{\"nome\":\"FOTON\",\"codigo\":190},{\"nome\":\"Fyber\",\"codigo\":170},{\"nome\":\"GEELY\",\"codigo\":199},{\"nome\":\"GM - Chevrolet\",\"codigo\":23},{\"nome\":\"GREAT WALL\",\"codigo\":153},{\"nome\":\"Gurgel\",\"codigo\":24},{\"nome\":\"HAFEI\",\"codigo\":152},{\"nome\":\"Honda\",\"codigo\":25},{\"nome\":\"Hyundai\",\"codigo\":26},{\"nome\":\"Isuzu\",\"codigo\":27},{\"nome\":\"JAC\",\"codigo\":177},{\"nome\":\"Jaguar\",\"codigo\":28},{\"nome\":\"Jeep\",\"codigo\":29},{\"nome\":\"JINBEI\",\"codigo\":154},{\"nome\":\"JPX\",\"codigo\":30},{\"nome\":\"Kia Motors\",\"codigo\":31},{\"nome\":\"Lada\",\"codigo\":32},{\"nome\":\"LAMBORGHINI\",\"codigo\":171},{\"nome\":\"Land Rover\",\"codigo\":33},{\"nome\":\"Lexus\",\"codigo\":34},{\"nome\":\"LIFAN\",\"codigo\":168},{\"nome\":\"LOBINI\",\"codigo\":127},{\"nome\":\"Lotus\",\"codigo\":35},{\"nome\":\"Mahindra\",\"codigo\":140},{\"nome\":\"Maserati\",\"codigo\":36},{\"nome\":\"Matra\",\"codigo\":37},{\"nome\":\"Mazda\",\"codigo\":38},{\"nome\":\"Mercedes-Benz\",\"codigo\":39},{\"nome\":\"Mercury\",\"codigo\":40},{\"nome\":\"MG\",\"codigo\":167},{\"nome\":\"MINI\",\"codigo\":156},{\"nome\":\"Mitsubishi\",\"codigo\":41},{\"nome\":\"Miura\",\"codigo\":42},{\"nome\":\"Nissan\",\"codigo\":43},{\"nome\":\"Peugeot\",\"codigo\":44},{\"nome\":\"Plymouth\",\"codigo\":45},{\"nome\":\"Pontiac\",\"codigo\":46},{\"nome\":\"Porsche\",\"codigo\":47},{\"nome\":\"RAM\",\"codigo\":185},{\"nome\":\"RELY\",\"codigo\":186},{\"nome\":\"Renault\",\"codigo\":48},{\"nome\":\"Rolls-Royce\",\"codigo\":195},{\"nome\":\"Rover\",\"codigo\":49},{\"nome\":\"Saab\",\"codigo\":50},{\"nome\":\"Saturn\",\"codigo\":51},{\"nome\":\"Seat\",\"codigo\":52},{\"nome\":\"SHINERAY\",\"codigo\":183},{\"nome\":\"smart\",\"codigo\":157},{\"nome\":\"SSANGYONG\",\"codigo\":125},{\"nome\":\"Subaru\",\"codigo\":54},{\"nome\":\"Suzuki\",\"codigo\":55},{\"nome\":\"TAC\",\"codigo\":165},{\"nome\":\"Toyota\",\"codigo\":56},{\"nome\":\"Troller\",\"codigo\":57},{\"nome\":\"Volvo\",\"codigo\":58},{\"nome\":\"VW - VolksWagen\",\"codigo\":59},{\"nome\":\"Wake\",\"codigo\":163},{\"nome\":\"Walk\",\"codigo\":120}]'"
      ]
     },
     "execution_count": 9,
     "metadata": {},
     "output_type": "execute_result"
    }
   ],
   "source": [
    "result.text"
   ]
  },
  {
   "cell_type": "code",
   "execution_count": 12,
   "metadata": {},
   "outputs": [
    {
     "data": {
      "text/plain": [
       "[{'codigo': 1, 'nome': 'Acura'},\n",
       " {'codigo': 2, 'nome': 'Agrale'},\n",
       " {'codigo': 3, 'nome': 'Alfa Romeo'},\n",
       " {'codigo': 4, 'nome': 'AM Gen'},\n",
       " {'codigo': 5, 'nome': 'Asia Motors'},\n",
       " {'codigo': 189, 'nome': 'ASTON MARTIN'},\n",
       " {'codigo': 6, 'nome': 'Audi'},\n",
       " {'codigo': 7, 'nome': 'BMW'},\n",
       " {'codigo': 8, 'nome': 'BRM'},\n",
       " {'codigo': 9, 'nome': 'Buggy'},\n",
       " {'codigo': 123, 'nome': 'Bugre'},\n",
       " {'codigo': 10, 'nome': 'Cadillac'},\n",
       " {'codigo': 11, 'nome': 'CBT Jipe'},\n",
       " {'codigo': 136, 'nome': 'CHANA'},\n",
       " {'codigo': 182, 'nome': 'CHANGAN'},\n",
       " {'codigo': 161, 'nome': 'CHERY'},\n",
       " {'codigo': 12, 'nome': 'Chrysler'},\n",
       " {'codigo': 13, 'nome': 'Citroën'},\n",
       " {'codigo': 14, 'nome': 'Cross Lander'},\n",
       " {'codigo': 15, 'nome': 'Daewoo'},\n",
       " {'codigo': 16, 'nome': 'Daihatsu'},\n",
       " {'codigo': 17, 'nome': 'Dodge'},\n",
       " {'codigo': 147, 'nome': 'EFFA'},\n",
       " {'codigo': 18, 'nome': 'Engesa'},\n",
       " {'codigo': 19, 'nome': 'Envemo'},\n",
       " {'codigo': 20, 'nome': 'Ferrari'},\n",
       " {'codigo': 21, 'nome': 'Fiat'},\n",
       " {'codigo': 149, 'nome': 'Fibravan'},\n",
       " {'codigo': 22, 'nome': 'Ford'},\n",
       " {'codigo': 190, 'nome': 'FOTON'},\n",
       " {'codigo': 170, 'nome': 'Fyber'},\n",
       " {'codigo': 199, 'nome': 'GEELY'},\n",
       " {'codigo': 23, 'nome': 'GM - Chevrolet'},\n",
       " {'codigo': 153, 'nome': 'GREAT WALL'},\n",
       " {'codigo': 24, 'nome': 'Gurgel'},\n",
       " {'codigo': 152, 'nome': 'HAFEI'},\n",
       " {'codigo': 25, 'nome': 'Honda'},\n",
       " {'codigo': 26, 'nome': 'Hyundai'},\n",
       " {'codigo': 27, 'nome': 'Isuzu'},\n",
       " {'codigo': 177, 'nome': 'JAC'},\n",
       " {'codigo': 28, 'nome': 'Jaguar'},\n",
       " {'codigo': 29, 'nome': 'Jeep'},\n",
       " {'codigo': 154, 'nome': 'JINBEI'},\n",
       " {'codigo': 30, 'nome': 'JPX'},\n",
       " {'codigo': 31, 'nome': 'Kia Motors'},\n",
       " {'codigo': 32, 'nome': 'Lada'},\n",
       " {'codigo': 171, 'nome': 'LAMBORGHINI'},\n",
       " {'codigo': 33, 'nome': 'Land Rover'},\n",
       " {'codigo': 34, 'nome': 'Lexus'},\n",
       " {'codigo': 168, 'nome': 'LIFAN'},\n",
       " {'codigo': 127, 'nome': 'LOBINI'},\n",
       " {'codigo': 35, 'nome': 'Lotus'},\n",
       " {'codigo': 140, 'nome': 'Mahindra'},\n",
       " {'codigo': 36, 'nome': 'Maserati'},\n",
       " {'codigo': 37, 'nome': 'Matra'},\n",
       " {'codigo': 38, 'nome': 'Mazda'},\n",
       " {'codigo': 39, 'nome': 'Mercedes-Benz'},\n",
       " {'codigo': 40, 'nome': 'Mercury'},\n",
       " {'codigo': 167, 'nome': 'MG'},\n",
       " {'codigo': 156, 'nome': 'MINI'},\n",
       " {'codigo': 41, 'nome': 'Mitsubishi'},\n",
       " {'codigo': 42, 'nome': 'Miura'},\n",
       " {'codigo': 43, 'nome': 'Nissan'},\n",
       " {'codigo': 44, 'nome': 'Peugeot'},\n",
       " {'codigo': 45, 'nome': 'Plymouth'},\n",
       " {'codigo': 46, 'nome': 'Pontiac'},\n",
       " {'codigo': 47, 'nome': 'Porsche'},\n",
       " {'codigo': 185, 'nome': 'RAM'},\n",
       " {'codigo': 186, 'nome': 'RELY'},\n",
       " {'codigo': 48, 'nome': 'Renault'},\n",
       " {'codigo': 195, 'nome': 'Rolls-Royce'},\n",
       " {'codigo': 49, 'nome': 'Rover'},\n",
       " {'codigo': 50, 'nome': 'Saab'},\n",
       " {'codigo': 51, 'nome': 'Saturn'},\n",
       " {'codigo': 52, 'nome': 'Seat'},\n",
       " {'codigo': 183, 'nome': 'SHINERAY'},\n",
       " {'codigo': 157, 'nome': 'smart'},\n",
       " {'codigo': 125, 'nome': 'SSANGYONG'},\n",
       " {'codigo': 54, 'nome': 'Subaru'},\n",
       " {'codigo': 55, 'nome': 'Suzuki'},\n",
       " {'codigo': 165, 'nome': 'TAC'},\n",
       " {'codigo': 56, 'nome': 'Toyota'},\n",
       " {'codigo': 57, 'nome': 'Troller'},\n",
       " {'codigo': 58, 'nome': 'Volvo'},\n",
       " {'codigo': 59, 'nome': 'VW - VolksWagen'},\n",
       " {'codigo': 163, 'nome': 'Wake'},\n",
       " {'codigo': 120, 'nome': 'Walk'}]"
      ]
     },
     "execution_count": 12,
     "metadata": {},
     "output_type": "execute_result"
    }
   ],
   "source": [
    "result.json()"
   ]
  },
  {
   "cell_type": "code",
   "execution_count": null,
   "metadata": {},
   "outputs": [],
   "source": []
  }
 ],
 "metadata": {
  "kernelspec": {
   "display_name": "Python 3",
   "language": "python",
   "name": "python3"
  },
  "language_info": {
   "codemirror_mode": {
    "name": "ipython",
    "version": 3
   },
   "file_extension": ".py",
   "mimetype": "text/x-python",
   "name": "python",
   "nbconvert_exporter": "python",
   "pygments_lexer": "ipython3",
   "version": "3.5.5"
  }
 },
 "nbformat": 4,
 "nbformat_minor": 2
}
